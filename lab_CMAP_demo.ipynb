{
 "cells": [
  {
   "cell_type": "markdown",
   "metadata": {},
   "source": [
    "<a class=\"anchor\" id=\"top\"></a>\n",
    "\n",
    "## Outline:\n",
    "* [Getting Started](#getting-started)\n",
    "* [Catalog](#catalog)\n",
    "<br/>\n",
    "* [**Data Visulization**](#data-visualization)\n",
    "    * [Regional Map](#map)\n",
    "    * [Sparse Regional Map](#s_map)\n",
    "    * [Time Series](#timeseries)\n",
    "    * [Section Map](#section)\n",
    "    * [Depth Profile](#depth-profile)\n",
    "    * [Cruise Sampling](#cruise)\n",
    "    * [Colocalize Custom External Dataset](#external)\n",
    "    \n",
    "* [**Data Retrieval**](#retrieval)\n",
    "    * [Calling Pre-defined Functions](#retrieval) \n",
    "        * [Space-Time Subset](#space-time)\n",
    "        * [Time Series Subset](#time-series-subset)\n",
    "\n"
   ]
  },
  {
   "cell_type": "markdown",
   "metadata": {},
   "source": [
    "<a class=\"anchor\" id=\"catalog\"></a>\n",
    "<br/>\n",
    "<br/>\n",
    "<br/>\n",
    "<br/>\n",
    "<br/>\n",
    "<br/>\n",
    "<br/>\n",
    "<br/>\n",
    "\n",
    "\n",
    "<center>\n",
    "<h1> Catalog </h1>\n",
    "</center>\n",
    "\n",
    "\n",
    "<br/>\n",
    "<br/>\n",
    "<center>\n",
    "<h1> cmap.readthedocs.io </h1>\n",
    "</center>\n",
    "\n",
    "\n",
    "\n",
    "<br/>\n",
    "<br/>\n",
    "<br/>\n",
    "<br/>\n",
    "<br/>\n",
    "<br/>\n",
    "<br/>\n",
    "<br/>\n",
    "\n",
    "\n",
    "\n"
   ]
  },
  {
   "cell_type": "code",
   "execution_count": null,
   "metadata": {},
   "outputs": [],
   "source": [
    "from opedia import getCatalog\n",
    "import pandas as pd\n",
    "\n",
    "\n",
    "pd.read_csv('./data/catalog.csv')\n",
    "df = pd.read_csv('./data/catalog.csv')\n",
    "\n",
    "print(df[['Variable', 'Table_Name']].to_string())"
   ]
  },
  {
   "cell_type": "markdown",
   "metadata": {},
   "source": [
    "<a class=\"anchor\" id=\"data-visualization\"></a>\n",
    "<br/>\n",
    "<br/>\n",
    "<br/>\n",
    "<br/>\n",
    "<br/>\n",
    "<br/>\n",
    "<br/>\n",
    "<br/>\n",
    "\n",
    "\n",
    "<center>\n",
    "<h1> Data Visualization </h1>\n",
    "</center>\n",
    "\n",
    "\n",
    "<br/>\n",
    "<br/>\n",
    "<br/>\n",
    "<br/>\n",
    "<br/>\n",
    "<br/>\n",
    "<br/>\n",
    "<br/>\n",
    "<br/>\n",
    "<br/>\n",
    "\n",
    "\n",
    "\n"
   ]
  },
  {
   "cell_type": "markdown",
   "metadata": {},
   "source": [
    "<a class=\"anchor\" id=\"map\"></a>\n",
    "\n",
    "# Plot Regional Maps (Satellite, Model)\n",
    "\n",
    "Create a regional map using satellite and model data.\n",
    "<br/> <br/>\n",
    "**Notes:**<br/> \n",
    "* Darwin_Nutrient_3day is a 3 day interval version of the Darwin model with spatial resolution $\\frac{1}{2}^\\circ \\times \\frac{1}{2}^\\circ$.<br/>\n",
    "\n",
    "* Satellite SST data set is a daily-global product with spatial resolution $\\frac{1}{4}^\\circ \\times \\frac{1}{4}^\\circ$.<br/>"
   ]
  },
  {
   "cell_type": "code",
   "execution_count": null,
   "metadata": {
    "scrolled": false
   },
   "outputs": [],
   "source": [
    "from opedia import plotRegional as REG\n",
    "\n",
    "tables = ['tblSST_AVHRR_OI_NRT','tblDarwin_Nutrient_3day','tblDarwin_Nutrient_3day','tblDarwin_Nutrient_3day']    # see catalog.csv  for the complete list of tables and variable names\n",
    "variables = ['sst','PO4_darwin_3day','DIN_darwin_3day','O2_darwin_3day']                            # see catalog.csv  for the complete list of tables and variable names   \n",
    "startDate = '2014-04-27'\n",
    "endDate = '2014-04-27'\n",
    "lat1, lat2 = -90, 90\n",
    "lon1, lon2 = -180, 180\n",
    "depth1, depth2 = 0, 5\n",
    "fname = 'regional'\n",
    "exportDataFlag = False       # True if you you want to download data\n",
    "\n",
    "REG.regionalMap(tables, variables, startDate, endDate, lat1, lat2, lon1, lon2, depth1, depth2, fname, exportDataFlag)"
   ]
  },
  {
   "cell_type": "markdown",
   "metadata": {},
   "source": [
    "<a class=\"anchor\" id=\"s_map\"></a>\n",
    "\n",
    "# Plot Sparse Regional Maps (Cruise)\n",
    "\n",
    "Create a regional map using sparse cruise data\n",
    "<br/> <br/>\n",
    "**Notes:**<br/> \n",
    "* Global Cyanobacteria (Flombaum) is a dataset that contains global observations of prochlorococcus and synechococcus abundance from 1987-09-17\tthrough 2008-11-10.\n"
   ]
  },
  {
   "cell_type": "code",
   "execution_count": null,
   "metadata": {
    "scrolled": false
   },
   "outputs": [],
   "source": [
    "from opedia import plotRegional as REG\n",
    "\n",
    "\n",
    "tables = ['tblFlombaum']\n",
    "variables = ['prochlorococcus_abundance_flombaum']  \n",
    "startDate = '1987-09-17'\n",
    "endDate = '2008-11-10'\n",
    "lat1, lat2 = -90, 90\n",
    "lon1, lon2 = -180, 180\n",
    "depth1, depth2 = 0, 5\n",
    "fname = 'regional'\n",
    "exportDataFlag = False       # True if you you want to download data\n",
    "\n",
    "REG.regionalMap(tables, variables, startDate, endDate, lat1, lat2, lon1, lon2, depth1, depth2, fname, exportDataFlag)"
   ]
  },
  {
   "cell_type": "markdown",
   "metadata": {},
   "source": [
    "<a class=\"anchor\" id=\"timeseries\"></a>\n",
    "\n",
    "# Plot Time Series (Model, Satellite)\n",
    "\n",
    "Create time series plots using satelite and model data.\n",
    "<br/> <br/>\n",
    "**Note:**<br/> \n",
    "* Darwin_Nutrient_3day is a 3 day interval version of the Darwin model with spatial resolution $\\frac{1}{2}^\\circ \\times \\frac{1}{2}^\\circ$.<br/>\n",
    "\n",
    "* Satellite SST data set is a daily-global product with spatial resolution $\\frac{1}{4}^\\circ \\times \\frac{1}{4}^\\circ$.<br/>\n",
    "\n",
    "* Satellite Altimetry data set is a daily-global product with spatial resolution $\\frac{1}{4}^\\circ \\times \\frac{1}{4}^\\circ$.<br/>"
   ]
  },
  {
   "cell_type": "code",
   "execution_count": null,
   "metadata": {},
   "outputs": [],
   "source": [
    "from opedia import plotTS as TS\n",
    "\n",
    "\n",
    "tables = ['tblSST_AVHRR_OI_NRT', 'tblAltimetry_REP','tblDarwin_Nutrient_3day']    # see catalog.csv  for the complete list of tables and variable names\n",
    "variables = ['sst', 'sla', 'O2_darwin_3day']   \n",
    "startDate = '2014-01-01'\n",
    "endDate = '2014-09-29'\n",
    "lat1, lat2 = 25, 30\n",
    "lon1, lon2 = -160, -155\n",
    "depth1, depth2 = 0, 5\n",
    "fname = 'TS'\n",
    "exportDataFlag = False                                                   # True if you you want to download data\n",
    "\n",
    "TS.plotTS(tables, variables, startDate, endDate, lat1, lat2, lon1, lon2, depth1, depth2, fname, exportDataFlag)"
   ]
  },
  {
   "cell_type": "markdown",
   "metadata": {},
   "source": [
    "<a class=\"anchor\" id=\"section\"></a>\n",
    "\n",
    "# Plot Section Map (Model outputs)\n",
    "\n",
    "Create section maps using Darwin model outputs.\n",
    "<br/> <br/>\n",
    "**Notes:**\n",
    "* Darwin_Nutrient_3day is a 3 day interval version of the Darwin model with spatial resolution $\\frac{1}{2}^\\circ \\times \\frac{1}{2}^\\circ$.<br/>\n",
    "\n",
    "\n"
   ]
  },
  {
   "cell_type": "code",
   "execution_count": null,
   "metadata": {},
   "outputs": [],
   "source": [
    "from opedia import plotSection as SEC\n",
    "\n",
    "tables = ['tblDarwin_Nutrient_3day', 'tblDarwin_Nutrient_3day']     # see catalog.csv  for the complete list of tables and variable names      \n",
    "variables = ['O2_darwin_3day', 'SiO2_darwin_3day']                           # see catalog.csv  for the complete list of tables and variable names\n",
    "startDate = '2014-04-30'                                         \n",
    "endDate = '2014-04-30'\n",
    "lat1, lat2 = 14, 15\n",
    "lon1, lon2 = -156, -20\n",
    "depth1, depth2 = 0, 6000\n",
    "fname = 'SEC'\n",
    "exportDataFlag = False                                           # True if you you want to download data\n",
    "\n",
    "SEC.sectionMap(tables, variables, startDate, endDate, lat1, lat2, lon1, lon2, depth1, depth2, fname, exportDataFlag)"
   ]
  },
  {
   "cell_type": "markdown",
   "metadata": {},
   "source": [
    "<a class=\"anchor\" id=\"depth-profile\"></a>\n",
    "\n",
    "# Plot Depth Profile (BGC-Argo Floats, Model outputs)\n",
    "\n",
    "Create depth profile plots using model and BGC-Argo float profiles.\n",
    "<br/> <br/>\n",
    "**Notes:**\n",
    "* Darwin_Climatology is a monthly climatology version of the Darwin model with spatial resolution $\\frac{1}{2}^\\circ \\times \\frac{1}{2}^\\circ$.<br/>\n",
    "\n",
    "* Argo float data set has irregular temporal and spatial resolution. <br/>"
   ]
  },
  {
   "cell_type": "code",
   "execution_count": null,
   "metadata": {},
   "outputs": [],
   "source": [
    "from opedia import plotDepthProfile as DEP\n",
    "\n",
    "tables = ['tblArgoMerge_REP', 'tblDarwin_Chl_Climatology']     # see catalog.csv  for the complete list of tables and variable names      \n",
    "variables = ['argo_merge_chl_adj', 'chl01_darwin_clim']        # see catalog.csv  for the complete list of tables and variable names\n",
    "startDate = '2016-04-30'   \n",
    "endDate = '2016-04-30'\n",
    "lat1, lat2 = 20, 24\n",
    "lon1, lon2 = -170, -160\n",
    "depth1, depth2 = 0, 1500\n",
    "fname = 'DEP'\n",
    "exportDataFlag = False                                         # True if you you want to download data\n",
    "\n",
    "DEP.plotDepthProfile(tables, variables, startDate, endDate, lat1, lat2, lon1, lon2, depth1, depth2, fname, exportDataFlag)"
   ]
  },
  {
   "cell_type": "markdown",
   "metadata": {},
   "source": [
    "<br/> <br/>\n",
    "<a class=\"anchor\" id=\"cruise\"></a>\n",
    "\n",
    "# Colocalize Darwin model and satellite data with cruise\n",
    "\n",
    "Compare the underway (in-situ) picoeukaryote abundance measurements performed during the KM1502 cruise with satellite chlorophyll data and picoeukaryote climatological estimates provided by Darwin model.\n",
    "\n",
    "<br/> \n",
    "**Notes:**<br/> \n",
    "\n",
    "* In-Situ picoeukaryote abundance measurements are results of the SeaFlow data set with 3-minute temporal resultion and irregular spatial resultion.\n",
    "\n",
    "* Satellite Chlorophyll data used in this example is a daily-global reprocessed and optimally interpolated data set with $4~{\\rm km}\\times4~{\\rm km}$ spatial resolution. \n",
    "\n",
    "* Darwin_Climatology is a monthly climatology version of the Darwin model with spatial resolution $\\frac{1}{2}^\\circ \\times \\frac{1}{2}^\\circ$.<br/>\n",
    "\n",
    "\n",
    "\n",
    "<br/>\n"
   ]
  },
  {
   "cell_type": "code",
   "execution_count": null,
   "metadata": {},
   "outputs": [],
   "source": [
    "from opedia import plotCruise as CRS\n",
    "\n",
    "DB_Cruise = True                 # < True > if cruise trajectory already exists in DB. < False > if arbiturary cruise file (e.g. virtual) \n",
    "source = 'tblSeaFlow'            # cruise table name or path to csv trajectory file    \n",
    "cruise = 'KM1502'              # cruise name, or file name of the csv trajectory file     \n",
    "resampTau = '6H'                 # resample the cruise trajectory making trajectory time-space resolution coarser: e.g. '6H' (6 hourly), '3T' (3 minutes), ... '0' (ignore)  \n",
    "fname = 'alongTrack'             # figure filename\n",
    "tables = ['tblSeaFlow', 'tblDarwin_Plankton_Climatology', 'tblCHL_REP']    # list of varaible table names               \n",
    "variables = ['picoeuk_abundance', 'picoeukaryote_c03_darwin_clim', 'chl']               # list of variable names           \n",
    "spatialTolerance = 0.3           #a colocalizer spatial tolerance (+/- degrees) \n",
    "exportDataFlag = False           # export the cruise trajectory and colocalized data on disk\n",
    "depth1 = 0                      # depth range start (m) \n",
    "depth2 = 5                       # depth range end (m)  \n",
    "\n",
    "\n",
    "df = CRS.getCruiseTrack(DB_Cruise, source, cruise)\n",
    "df = CRS.resample(df, resampTau) \n",
    "loadedTrack = CRS.plotAlongTrack(tables, variables, cruise, resampTau, df, spatialTolerance, depth1, depth2, fname, exportDataFlag, marker='-', msize=30, clr='darkturquoise')"
   ]
  },
  {
   "cell_type": "markdown",
   "metadata": {},
   "source": [
    "<a class='anchor' id='external'></a>\n",
    "\n",
    "\n",
    "# Colocalize a custom dataset with Darwin model, and satellite data\n",
    "\n",
    "Colocalize a a custom dataset (Particulate Cobalamins observed on KM1314 cruise) with climatological POC, prokaryote estimates provided by Darwin model, and dissolved iron concentration. The dataset should be in either '.xlsx' or '.csv' format with 'time', 'lat', 'lon', and 'depth' columns. \n",
    "\n",
    "\n",
    "| time        | lat           | lon  | depth | [var1] | [...] | [varn] |\n",
    "| -----------   | -----------   | ----- | ----- | ----- | ----- | ----- |\n",
    "| <%Y-%m-%dT%H:%M:%S>  | [-90, 90] | [-180, 180] | positive number | number | number | number |\n",
    "\n",
    "\n",
    "<br/> \n",
    "**Notes:**<br/> \n",
    "\n",
    "* Darwin_Nutrient_3day is a 3 day interval version of the Darwin model with spatial resolution $\\frac{1}{2}^\\circ \\times \\frac{1}{2}^\\circ$.<br/>\n",
    "\n",
    "* Darwin_Climatology is a monthly climatology version of the Darwin model with spatial resolution $\\frac{1}{2}^\\circ \\times \\frac{1}{2}^\\circ$.<br/>\n",
    "\n",
    "* Satellite SST data set is a daily-global product with spatial resolution $\\frac{1}{4}^\\circ \\times \\frac{1}{4}^\\circ$.<br/>\n",
    "\n",
    "<br/>\n",
    "\n",
    "\n",
    "**Thanks to Anitra Ingalls, Katherine Heal *et al.* (Inglass Lab, UW) for the beautiful dataset!**  <br/> <br/> \n"
   ]
  },
  {
   "cell_type": "code",
   "execution_count": null,
   "metadata": {},
   "outputs": [],
   "source": [
    "from opedia import colocalize as COL\n",
    "\n",
    "DB = False                            # < True > if source data exists in the database. < 0 > if the source data set is a spreadsheet file on disk. \n",
    "source = './data/KM1314_ParticulateCobalamins_2018_06_12_vPublished.xlsx'            # the source table name (or full filename)    \n",
    "temporalTolerance = 1                # colocalizer temporal tolerance (+/- degrees)\n",
    "latTolerance = 0.3                   # colocalizer meridional tolerance (+/- degrees)\n",
    "lonTolerance = 0.3                   # colocalizer zonal tolerance (+/- degrees) \n",
    "depthTolerance = 5                   # colocalizer depth tolerance (+/- meters)\n",
    "tables = ['tblsst_AVHRR_OI_NRT','tblDarwin_Nutrient_3day', 'tblDarwin_Plankton_Climatology']    # list of varaible table names               \n",
    "variables = ['sst','FeT_darwin_3day', 'prokaryote_c01_darwin_clim']                            # list of variable names           \n",
    "exportPath = './data/loaded.csv'         # path to save the colocalized data set \n",
    "    \n",
    "COL.matchSource(DB, source, temporalTolerance, latTolerance, lonTolerance, depthTolerance, tables, variables, exportPath)    \n",
    "\n",
    "from opedia import getCatalog\n",
    "import pandas as pd\n",
    "\n",
    "\n",
    "df = pd.read_csv('./data/loaded.csv')\n",
    "\n",
    "print(df.head(10))\n"
   ]
  },
  {
   "cell_type": "markdown",
   "metadata": {},
   "source": [
    "<a class=\"anchor\" id=\"retrieval\"></a>\n",
    "\n",
    "<br/>\n",
    "<br/>\n",
    "<br/>\n",
    "<br/>\n",
    "<br/>\n",
    "<br/>\n",
    "<br/>\n",
    "<br/>\n",
    "\n",
    "<center>\n",
    "<h1> Data Retrieval </h1>\n",
    "<h3> Extract customized subsets of data:  calling pre-defined functions</h3> \n",
    "</center>\n",
    "\n",
    "\n",
    "\n",
    "<br/>\n",
    "<br/>\n",
    "<br/>\n",
    "<br/>\n",
    "<br/>\n",
    "<br/>\n",
    "<br/>\n",
    "<br/>\n",
    "<br/>\n",
    "<br/>\n",
    "\n",
    "\n",
    "\n"
   ]
  },
  {
   "cell_type": "markdown",
   "metadata": {},
   "source": [
    "<a class=\"anchor\" id=\"space-time\"></a>\n",
    "\n",
    "# Space-Time subset\n",
    "This tutorial shows how to retrieve a generic distribution of a variable within a predefined space-time domain. You need to know the variable and table names, both of which can be found in the catalog. Data is retrieved in form of a dataframe with time, space, and variable columns. <br/> <br/> "
   ]
  },
  {
   "cell_type": "code",
   "execution_count": null,
   "metadata": {},
   "outputs": [],
   "source": [
    "from opedia import subset\n",
    "\n",
    "############## set parameters ################\n",
    "table = 'tblsst_AVHRR_OI_NRT'\n",
    "variable = 'sst'       \n",
    "dt1 = '2016-06-01'\n",
    "dt2 = '2016-06-05'\n",
    "lat1, lat2, lon1, lon2 = 23, 24, -160, -158  \n",
    "depth1, depth2 = 0, 0\n",
    "##############################################\n",
    "\n",
    "df = subset.spaceTime(table, variable, dt1, dt2, lat1, lat2, lon1, lon2, depth1, depth2)    # retrieves a DataFrame\n",
    "# df.to_csv('data.csv', index=False)      # save the retrieved data into a csv file"
   ]
  },
  {
   "cell_type": "markdown",
   "metadata": {},
   "source": [
    "<a class='anchor' id='time-series-subset'> </a>\n",
    "\n",
    "# Time series subset\n",
    "This tutorial shows how to retrieve time series of a variable within a predefined space-time domain. You need to know the variable and table names, both which can be found in the catalog. The *timeSeries* function computes the mean and standard deviation of the variable per time period. Data is retrieved in form of a dataframe with time, space, and variable columns. <br/> <br/> "
   ]
  },
  {
   "cell_type": "code",
   "execution_count": null,
   "metadata": {},
   "outputs": [],
   "source": [
    "from opedia import subset\n",
    "\n",
    "############## set parameters ################\n",
    "table = 'tblsst_AVHRR_OI_NRT'\n",
    "variable = 'sst'       \n",
    "dt1 = '2016-06-01'\n",
    "dt2 = '2016-07-01'\n",
    "lat1, lat2, lon1, lon2 = 23, 24, -160, -158  \n",
    "depth1, depth2 = 0, 0\n",
    "##############################################\n",
    "\n",
    "subset.timeSeries(table, variable, dt1, dt2, lat1, lat2, lon1, lon2, depth1, depth2)    # retrieves a DataFrame\n",
    "#df.to_csv('data.csv', index=False)      # save the retrieved data into a csv file"
   ]
  },
  {
   "cell_type": "markdown",
   "metadata": {},
   "source": [
    "\n",
    "# Regional Map Videos (Model, Satellite)\n",
    "\n",
    "Create videos using model and satellite data.\n",
    "<br/> <br/>\n",
    "**Notes:**<br/> \n",
    "* Darwin_Nutrient_3day is a 3 day interval version of the Darwin model with spatial resolution $\\frac{1}{2}^\\circ \\times \\frac{1}{2}^\\circ$.<br/>\n",
    "\n",
    "* The MODIS Aerosol Optical Depth dataset is a monthly gridded data product with spatial resolution ${1}^\\circ \\times {1}^\\circ$.<br/>"
   ]
  },
  {
   "cell_type": "code",
   "execution_count": null,
   "metadata": {},
   "outputs": [],
   "source": [
    "from opedia import vidRegional as vREG\n",
    "\n",
    "tables = ['tblDarwin_Nutrient_3day']    # see catalog.csv  for the complete list of tables and variable names\n",
    "variables = ['FeT_darwin_3day']                            # see catalog.csv  for the complete list of tables and variable names   \n",
    "startDate = '2015-01-01'\n",
    "endDate = '2015-12-01'\n",
    "lat1, lat2 = -30, 30\n",
    "lon1, lon2 = -130, 20\n",
    "depth1, depth2 = 0, 5\n",
    "frameRate = 10\n",
    "cmap = 'viridis'                         # https://matplotlib.org/3.1.0/tutorials/colors/colormaps.html\n",
    "bounds = [None, None]                 # if bounds are None, they'll be set automatically\n",
    "levels = 21\n",
    "\n",
    "vREG.regionalVideo(tables, variables, startDate, endDate, lat1, lat2, lon1, lon2, depth1, depth2, frameRate, cmap, bounds, levels)\n",
    "\n",
    "\n"
   ]
  },
  {
   "cell_type": "code",
   "execution_count": null,
   "metadata": {},
   "outputs": [],
   "source": [
    "from opedia import vidRegional as vREG\n",
    "\n",
    "tables = ['tblModis_AOD_REP']    # see catalog.csv  for the complete list of tables and variable names\n",
    "variables = ['AOD']                            # see catalog.csv  for the complete list of tables and variable names   \n",
    "startDate = '2015-01-01'\n",
    "endDate = '2015-12-01'\n",
    "lat1, lat2 = -30, 30\n",
    "lon1, lon2 = -120, 30\n",
    "depth1, depth2 = 0, 5\n",
    "frameRate = 5\n",
    "cmap = 'viridis'                         # https://matplotlib.org/3.1.0/tutorials/colors/colormaps.html\n",
    "bounds = [None, None]                 # if bounds are None, they'll be set automatically\n",
    "levels = 21\n",
    "\n",
    "vREG.regionalVideo(tables, variables, startDate, endDate, lat1, lat2, lon1, lon2, depth1, depth2, frameRate, cmap, bounds, levels)\n"
   ]
  },
  {
   "cell_type": "code",
   "execution_count": null,
   "metadata": {},
   "outputs": [],
   "source": []
  }
 ],
 "metadata": {
  "kernelspec": {
   "display_name": "Python 3",
   "language": "python",
   "name": "python3"
  },
  "language_info": {
   "codemirror_mode": {
    "name": "ipython",
    "version": 3
   },
   "file_extension": ".py",
   "mimetype": "text/x-python",
   "name": "python",
   "nbconvert_exporter": "python",
   "pygments_lexer": "ipython3",
   "version": "3.7.3"
  }
 },
 "nbformat": 4,
 "nbformat_minor": 2
}
